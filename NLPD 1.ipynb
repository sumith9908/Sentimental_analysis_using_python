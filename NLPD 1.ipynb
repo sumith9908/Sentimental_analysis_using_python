{
 "cells": [
  {
   "cell_type": "code",
   "execution_count": 1,
   "id": "c8e5c20c-5aa1-40e3-baaa-694a27d1710e",
   "metadata": {},
   "outputs": [],
   "source": [
    "import pandas as pd\n",
    "import numpy as np \n",
    "import matplotlib.pyplot as plt\n",
    "import seaborn as sns\n"
   ]
  },
  {
   "cell_type": "code",
   "execution_count": 2,
   "id": "3710ab1a-7221-46ed-a575-8a4d167e11e3",
   "metadata": {},
   "outputs": [
    {
     "name": "stdout",
     "output_type": "stream",
     "text": [
      "(10000, 3)\n"
     ]
    }
   ],
   "source": [
    "# Read the dataset\n",
    "df = pd.read_csv(\"Instagram.csv\", encoding='latin1')\n",
    "\n",
    "# Downscale \n",
    "print(df.shape)"
   ]
  },
  {
   "cell_type": "code",
   "execution_count": 3,
   "id": "07a19b28-415e-40f1-b09a-103bb3f31b0d",
   "metadata": {},
   "outputs": [
    {
     "data": {
      "text/html": [
       "<div>\n",
       "<style scoped>\n",
       "    .dataframe tbody tr th:only-of-type {\n",
       "        vertical-align: middle;\n",
       "    }\n",
       "\n",
       "    .dataframe tbody tr th {\n",
       "        vertical-align: top;\n",
       "    }\n",
       "\n",
       "    .dataframe thead th {\n",
       "        text-align: right;\n",
       "    }\n",
       "</style>\n",
       "<table border=\"1\" class=\"dataframe\">\n",
       "  <thead>\n",
       "    <tr style=\"text-align: right;\">\n",
       "      <th></th>\n",
       "      <th>reviewId</th>\n",
       "      <th>content</th>\n",
       "      <th>score</th>\n",
       "    </tr>\n",
       "  </thead>\n",
       "  <tbody>\n",
       "    <tr>\n",
       "      <th>0</th>\n",
       "      <td>4065aac6-a7b5-41dd-90ed-d2f864fa91e2</td>\n",
       "      <td>Music option not working ð</td>\n",
       "      <td>1</td>\n",
       "    </tr>\n",
       "    <tr>\n",
       "      <th>1</th>\n",
       "      <td>9130aa7d-d368-498f-a21b-05253a65d9e5</td>\n",
       "      <td>Love this App</td>\n",
       "      <td>5</td>\n",
       "    </tr>\n",
       "    <tr>\n",
       "      <th>2</th>\n",
       "      <td>ec8ff3a5-7a8e-4e9f-b4a3-6eb4b9e31692</td>\n",
       "      <td>Triphal re I'ma g hi nopzA,</td>\n",
       "      <td>4</td>\n",
       "    </tr>\n",
       "    <tr>\n",
       "      <th>3</th>\n",
       "      <td>127c8258-966c-46ea-9ae6-78e6eca1da33</td>\n",
       "      <td>Instagram ka dp ka bhi system thik nahi he or ...</td>\n",
       "      <td>5</td>\n",
       "    </tr>\n",
       "    <tr>\n",
       "      <th>4</th>\n",
       "      <td>02a9e2f9-ffee-49bf-837d-935473883ce0</td>\n",
       "      <td>awsome</td>\n",
       "      <td>5</td>\n",
       "    </tr>\n",
       "  </tbody>\n",
       "</table>\n",
       "</div>"
      ],
      "text/plain": [
       "                               reviewId  \\\n",
       "0  4065aac6-a7b5-41dd-90ed-d2f864fa91e2   \n",
       "1  9130aa7d-d368-498f-a21b-05253a65d9e5   \n",
       "2  ec8ff3a5-7a8e-4e9f-b4a3-6eb4b9e31692   \n",
       "3  127c8258-966c-46ea-9ae6-78e6eca1da33   \n",
       "4  02a9e2f9-ffee-49bf-837d-935473883ce0   \n",
       "\n",
       "                                             content  score  \n",
       "0                      Music option not working ð      1  \n",
       "1                                      Love this App      5  \n",
       "2                        Triphal re I'ma g hi nopzA,      4  \n",
       "3  Instagram ka dp ka bhi system thik nahi he or ...      5  \n",
       "4                                             awsome      5  "
      ]
     },
     "execution_count": 3,
     "metadata": {},
     "output_type": "execute_result"
    }
   ],
   "source": [
    "df.head()"
   ]
  },
  {
   "cell_type": "code",
   "execution_count": 4,
   "id": "aebd8bfc-48e0-4372-b4d8-cba8d37adc80",
   "metadata": {},
   "outputs": [
    {
     "name": "stdout",
     "output_type": "stream",
     "text": [
      "0                           Music option not working ð\n",
      "1                                           Love this App\n",
      "2                             Triphal re I'ma g hi nopzA,\n",
      "3       Instagram ka dp ka bhi system thik nahi he or ...\n",
      "4                                                  awsome\n",
      "                              ...                        \n",
      "9995                         Great so far awesome and fun\n",
      "9996                                                 Awww\n",
      "9997                                    Excellentðð¯\n",
      "9998                                         This aap osm\n",
      "9999                             ð¤ð»ð¤ð»ð¤ð»\n",
      "Name: content, Length: 10000, dtype: object\n"
     ]
    }
   ],
   "source": [
    "example = df['content']\n",
    "print(example)"
   ]
  },
  {
   "cell_type": "markdown",
   "id": "37c9580c-1996-4167-a276-918aa1289081",
   "metadata": {},
   "source": [
    "# Introduction\n"
   ]
  },
  {
   "cell_type": "code",
   "execution_count": 5,
   "id": "c0642ad9-d4d0-4be3-978c-e56d445f1c5f",
   "metadata": {},
   "outputs": [],
   "source": [
    "import nltk\n",
    "import numpy as np\n",
    "import matplotlib as mp\n",
    "import pandas as pd"
   ]
  },
  {
   "cell_type": "code",
   "execution_count": 6,
   "id": "9eb4c8c4-2457-4b09-8211-2417d77b7fce",
   "metadata": {},
   "outputs": [],
   "source": [
    "example = df['content'][71]"
   ]
  },
  {
   "cell_type": "code",
   "execution_count": 7,
   "id": "bf6637cf-2797-4e71-acb3-51b768f30056",
   "metadata": {},
   "outputs": [
    {
     "name": "stdout",
     "output_type": "stream",
     "text": [
      "Displaying 1 of 1 matches:\n",
      "r ðð « because this app is very good âºï¸\n"
     ]
    }
   ],
   "source": [
    "import nltk\n",
    "from nltk.text import Text\n",
    "\n",
    "# Sample text\n",
    "text = example\n",
    "\n",
    "# Tokenize the text\n",
    "tokens = nltk.word_tokenize(text)\n",
    "\n",
    "# Create an NLTK Text object\n",
    "text_obj = Text(tokens)\n",
    "\n",
    "# Use the concordance method\n",
    "text_obj.concordance(\"good\")"
   ]
  },
  {
   "cell_type": "code",
   "execution_count": 8,
   "id": "c0a2ffef-cdea-4217-9e8c-5d2c98d37764",
   "metadata": {},
   "outputs": [
    {
     "data": {
      "image/png": "[encoded data removed]",
      "text/plain": [
       "<Figure size 640x480 with 1 Axes>"
      ]
     },
     "metadata": {},
     "output_type": "display_data"
    }
   ],
   "source": [
    "text_obj.dispersion_plot([\"Instagram\", \"Amazing\",\"good\"])"
   ]
  },
  {
   "cell_type": "code",
   "execution_count": 9,
   "id": "16b994cb-bbcb-4896-936e-2063c3a230aa",
   "metadata": {},
   "outputs": [
    {
     "name": "stdout",
     "output_type": "stream",
     "text": [
      "No matches\n"
     ]
    }
   ],
   "source": [
    "text_obj.similar(\"awsome\")"
   ]
  },
  {
   "cell_type": "code",
   "execution_count": 10,
   "id": "dbe02588-09e3-4959-89e2-2df97d2d9c2f",
   "metadata": {},
   "outputs": [
    {
     "data": {
      "text/plain": [
       "62"
      ]
     },
     "execution_count": 10,
     "metadata": {},
     "output_type": "execute_result"
    }
   ],
   "source": [
    "len(example)"
   ]
  },
  {
   "cell_type": "code",
   "execution_count": 11,
   "id": "c5b5bc80-d7a9-468e-bf10-febc7dd03981",
   "metadata": {},
   "outputs": [
    {
     "data": {
      "text/plain": [
       "{' ',\n",
       " 'I',\n",
       " 'a',\n",
       " 'b',\n",
       " 'c',\n",
       " 'd',\n",
       " 'e',\n",
       " 'f',\n",
       " 'g',\n",
       " 'h',\n",
       " 'i',\n",
       " 'o',\n",
       " 'p',\n",
       " 'r',\n",
       " 's',\n",
       " 't',\n",
       " 'u',\n",
       " 'v',\n",
       " 'y',\n",
       " '\\x8c',\n",
       " '\\x8f',\n",
       " '\\x92',\n",
       " '\\x98',\n",
       " '\\x9f',\n",
       " '«',\n",
       " '¸',\n",
       " 'º',\n",
       " 'â',\n",
       " 'ï',\n",
       " 'ð'}"
      ]
     },
     "execution_count": 11,
     "metadata": {},
     "output_type": "execute_result"
    }
   ],
   "source": [
    "set(example)"
   ]
  },
  {
   "cell_type": "code",
   "execution_count": 12,
   "id": "8faa7a04-c45f-4ee6-9d3c-337733150d3b",
   "metadata": {},
   "outputs": [
    {
     "data": {
      "text/plain": [
       "[' ',\n",
       " 'I',\n",
       " 'a',\n",
       " 'b',\n",
       " 'c',\n",
       " 'd',\n",
       " 'e',\n",
       " 'f',\n",
       " 'g',\n",
       " 'h',\n",
       " 'i',\n",
       " 'o',\n",
       " 'p',\n",
       " 'r',\n",
       " 's',\n",
       " 't',\n",
       " 'u',\n",
       " 'v',\n",
       " 'y',\n",
       " '\\x8c',\n",
       " '\\x8f',\n",
       " '\\x92',\n",
       " '\\x98',\n",
       " '\\x9f',\n",
       " '«',\n",
       " '¸',\n",
       " 'º',\n",
       " 'â',\n",
       " 'ï',\n",
       " 'ð']"
      ]
     },
     "execution_count": 12,
     "metadata": {},
     "output_type": "execute_result"
    }
   ],
   "source": [
    "sorted(set(example))"
   ]
  },
  {
   "cell_type": "code",
   "execution_count": 13,
   "id": "919cdf15-6931-462d-ad5d-cc172de65300",
   "metadata": {},
   "outputs": [
    {
     "data": {
      "text/plain": [
       "0.4838709677419355"
      ]
     },
     "execution_count": 13,
     "metadata": {},
     "output_type": "execute_result"
    }
   ],
   "source": [
    "len(set(example)) / len(example) "
   ]
  },
  {
   "cell_type": "code",
   "execution_count": 14,
   "id": "d9b1dbe5-8ca5-437e-b1e4-2a641219620f",
   "metadata": {},
   "outputs": [
    {
     "name": "stdout",
     "output_type": "stream",
     "text": [
      "['I', 'give', 'five', 'star', 'ð\\x9f\\x8c\\x9fð\\x9f\\x92«', 'because', 'this', 'app', 'is', 'very', 'good', 'â\\x98ºï¸\\x8f']\n"
     ]
    }
   ],
   "source": [
    "# word tokenization\n",
    "print(example.split())"
   ]
  },
  {
   "cell_type": "code",
   "execution_count": 15,
   "id": "afb9739f-abe0-4222-9147-2321a23a37f8",
   "metadata": {},
   "outputs": [
    {
     "data": {
      "text/plain": [
       "['I give five star ð\\x9f\\x8c\\x9fð\\x9f\\x92« because this app is very good â\\x98ºï¸\\x8f']"
      ]
     },
     "execution_count": 15,
     "metadata": {},
     "output_type": "execute_result"
    }
   ],
   "source": [
    "# sentence tokenizer\n",
    "example.split('.')"
   ]
  },
  {
   "cell_type": "code",
   "execution_count": 16,
   "id": "c3b54e24-3248-4285-90ac-37378c536b49",
   "metadata": {},
   "outputs": [
    {
     "name": "stdout",
     "output_type": "stream",
     "text": [
      "['I', 'give', 'five', 'star', 'ð\\x9f\\x8c\\x9fð\\x9f\\x92', '«', 'because', 'this', 'app', 'is', 'very', 'good', 'â\\x98ºï¸\\x8f']\n"
     ]
    }
   ],
   "source": [
    "from nltk.tokenize import word_tokenize\n",
    "print(word_tokenize(example))"
   ]
  },
  {
   "cell_type": "code",
   "execution_count": 17,
   "id": "82038f16-edfa-4376-9a30-f856e2edc024",
   "metadata": {},
   "outputs": [
    {
     "data": {
      "text/plain": [
       "[(0, 1),\n",
       " (2, 6),\n",
       " (7, 11),\n",
       " (12, 16),\n",
       " (17, 25),\n",
       " (26, 33),\n",
       " (34, 38),\n",
       " (39, 42),\n",
       " (43, 45),\n",
       " (46, 50),\n",
       " (51, 55),\n",
       " (56, 62)]"
      ]
     },
     "execution_count": 17,
     "metadata": {},
     "output_type": "execute_result"
    }
   ],
   "source": [
    "from nltk.tokenize import WhitespaceTokenizer\n",
    "list(WhitespaceTokenizer().span_tokenize(example))"
   ]
  },
  {
   "cell_type": "markdown",
   "id": "c47a3830-51b9-43c3-8622-6079777967fc",
   "metadata": {},
   "source": [
    "# Filtering Stop Words"
   ]
  },
  {
   "cell_type": "code",
   "execution_count": 18,
   "id": "d37c660a-83e2-4b5d-8e1a-47a2723b68b1",
   "metadata": {},
   "outputs": [
    {
     "name": "stdout",
     "output_type": "stream",
     "text": [
      "['I', 'give', 'five', 'star', 'ð\\x9f\\x8c\\x9fð\\x9f\\x92', '«', 'because', 'this', 'app', 'is', 'very', 'good', 'â\\x98ºï¸\\x8f']\n",
      "['give', 'five', 'star', 'ð\\x9f\\x8c\\x9fð\\x9f\\x92', '«', 'app', 'good', 'â\\x98ºï¸\\x8f']\n",
      "['I', 'give', 'five', 'star', 'ð\\x9f\\x8c\\x9fð\\x9f\\x92', '«', 'app', 'good', 'â\\x98ºï¸\\x8f']\n"
     ]
    }
   ],
   "source": [
    "from nltk.corpus import stopwords\n",
    "from nltk.tokenize import word_tokenize\n",
    " \n",
    "stop_words = set(stopwords.words('english'))    #List of Stop Words\n",
    " \n",
    "word_tokens = word_tokenize(example)       # Tokens (ALL)\n",
    "print(word_tokens)\n",
    "# converts the words in word_tokens to lower case and then checks whether \n",
    "#they are present in stop_words or not\n",
    "filtered_sentence = [w for w in word_tokens if not w.lower() in stop_words]  \n",
    "print(filtered_sentence)\n",
    "#[This, sample, sentence, showing, stop, words, filteration]\n",
    "# all words in word_tokens if its lower case is not in stop_words--> filtered_sentence\n",
    "#with no lower case conversion\n",
    "filtered_sentence = []\n",
    "for w in word_tokens:\n",
    "    if w not in stop_words: #Not taking case into consideration\n",
    "        filtered_sentence.append(w)\n",
    "print(filtered_sentence)"
   ]
  },
  {
   "cell_type": "markdown",
   "id": "b684c472-80d3-4dff-a471-a73e9943e54d",
   "metadata": {},
   "source": [
    "# POS Tagging"
   ]
  },
  {
   "cell_type": "code",
   "execution_count": 19,
   "id": "1eef3e45-8f02-4bcf-bbd6-035ff712e2f3",
   "metadata": {},
   "outputs": [
    {
     "name": "stdout",
     "output_type": "stream",
     "text": [
      "I give five star ðð« because this app is very good âºï¸\n",
      "[('I', 'PRP'), ('give', 'VBP'), ('five', 'CD'), ('star', 'NN'), ('ð\\x9f\\x8c\\x9fð\\x9f\\x92', 'NN'), ('«', 'NNP'), ('app', 'RB'), ('good', 'JJ'), ('â\\x98ºï¸\\x8f', 'NN')]\n"
     ]
    }
   ],
   "source": [
    "import nltk\n",
    "from nltk.corpus import stopwords\n",
    "from nltk.tokenize import word_tokenize, sent_tokenize\n",
    "stop_words = set(stopwords.words('english'))\n",
    "\n",
    "# sent_tokenize is one of instances of \n",
    "# PunktSentenceTokenizer from the nltk.tokenize.punkt module\n",
    " \n",
    "tokenized = sent_tokenize(example)\n",
    "for i in tokenized:\n",
    "     \n",
    "    # Word tokenizers is used to find the words \n",
    "    # and punctuation in a string        Sukanya, Rajib and Naba are my good friends.\n",
    "    wordsList = nltk.word_tokenize(i)\n",
    " \n",
    "    # removing stop words from wordList\n",
    "    wordsList = [w for w in wordsList if not w in stop_words] \n",
    " \n",
    "    #  Using a Tagger. Which is part-of-speech \n",
    "    # tagger or POS-tagger. \n",
    "    tagged = nltk.pos_tag(wordsList)\n",
    "    print(example)\n",
    "    print(tagged)"
   ]
  },
  {
   "cell_type": "code",
   "execution_count": 20,
   "id": "099c72f8-b77e-48a2-9ec4-43b845a3583d",
   "metadata": {},
   "outputs": [
    {
     "data": {
      "text/plain": [
       "[('I', 'PRP'),\n",
       " ('give', 'VBP'),\n",
       " ('five', 'CD'),\n",
       " ('star', 'NN'),\n",
       " ('ð\\x9f\\x8c\\x9fð\\x9f\\x92', 'NN'),\n",
       " ('«', 'NN'),\n",
       " ('because', 'IN'),\n",
       " ('this', 'DT'),\n",
       " ('app', 'NN'),\n",
       " ('is', 'VBZ'),\n",
       " ('very', 'RB'),\n",
       " ('good', 'JJ'),\n",
       " ('â\\x98ºï¸\\x8f', 'NN')]"
      ]
     },
     "execution_count": 20,
     "metadata": {},
     "output_type": "execute_result"
    }
   ],
   "source": [
    "from nltk import pos_tag\n",
    "from nltk import word_tokenize\n",
    " \n",
    "tokenized_text = word_tokenize(example)\n",
    "tags = tokens_tag = pos_tag(tokenized_text)\n",
    "tags"
   ]
  },
  {
   "cell_type": "code",
   "execution_count": 21,
   "id": "7268cdbd-9582-4324-8455-42039440f151",
   "metadata": {},
   "outputs": [
    {
     "data": {
      "text/plain": [
       "4.838709677419355"
      ]
     },
     "execution_count": 21,
     "metadata": {},
     "output_type": "execute_result"
    }
   ],
   "source": [
    "(example.count(\"a\")/len(example))*100 # TERM FREQUENCY TF_IDF"
   ]
  },
  {
   "cell_type": "code",
   "execution_count": 22,
   "id": "99715830-5040-42b7-a204-77038ec13fb7",
   "metadata": {},
   "outputs": [
    {
     "name": "stdout",
     "output_type": "stream",
     "text": [
      "I give five star ðð« because this app is very good âºï¸\n",
      "i give five star ðð« because this app is very good âºï¸\n",
      "i give five star  because this app is very good \n"
     ]
    }
   ],
   "source": [
    "import re                                #Regular Expression\n",
    "from nltk.tokenize import word_tokenize\n",
    "from nltk.corpus import stopwords\n",
    "from nltk.stem import WordNetLemmatizer\n",
    "\n",
    "# Convert text to lowercase\n",
    "text = example\n",
    "print(text)\n",
    "text = text.lower()\n",
    "print(text)\n",
    "\n",
    "\n",
    "# Remove special characters, punctuation, and numbers\n",
    "text = re.sub(r'[^a-zA-Z\\s]', '', text)\n",
    "print(text)"
   ]
  },
  {
   "cell_type": "markdown",
   "id": "b06c9526-5c4d-4d70-b1b0-0c5f8aaa2400",
   "metadata": {},
   "source": [
    "# Stop Words and POS Tagging"
   ]
  },
  {
   "cell_type": "code",
   "execution_count": 23,
   "id": "e9832b6f-03df-4b48-91e9-49ba8f6ab472",
   "metadata": {},
   "outputs": [
    {
     "name": "stdout",
     "output_type": "stream",
     "text": [
      "['I give five star ð\\x9f\\x8c\\x9fð\\x9f\\x92« because this app is very good â\\x98ºï¸\\x8f']\n",
      "['give', 'five', 'star', 'ð\\x9f\\x8c\\x9fð\\x9f\\x92', '«', 'app', 'good', 'â\\x98ºï¸\\x8f']\n",
      "[('give', 'VB'), ('five', 'CD'), ('star', 'NN'), ('ð\\x9f\\x8c\\x9fð\\x9f\\x92', 'NN'), ('«', 'NNP'), ('app', 'RB'), ('good', 'JJ'), ('â\\x98ºï¸\\x8f', 'NN')]\n",
      "_______________________________________________________________________\n"
     ]
    }
   ],
   "source": [
    "import nltk\n",
    "from nltk.corpus import stopwords\n",
    "from nltk.tokenize import word_tokenize, sent_tokenize\n",
    "stop_words = set(stopwords.words('english'))\n",
    " \n",
    "# Dummy text\n",
    "txt = example\n",
    "# sent_tokenize is one of instances of \n",
    "# PunktSentenceTokenizer from the nltk.tokenize.punkt module\n",
    " \n",
    "tokenized = sent_tokenize(txt) #Tokenize the whole text in sentences.\n",
    "print(tokenized)\n",
    "#print(txt)\n",
    "for i in tokenized:\n",
    "    # Word tokenizers is used to find the words \n",
    "    # and punctuation in a string  Once upon a time, There was a thirsty crow who was thirsty and searching for water.\n",
    "    wordsList = nltk.word_tokenize(i)\n",
    "    #print(wordsList)\n",
    "    # removing stop words from wordList\n",
    "    wordsList = [w for w in wordsList if not w.lower() in stop_words] \n",
    "    print(wordsList)    # ['Once', 'upon', 'time', ',', 'There', 'thirsty', 'crow', 'thirsty', 'searching', 'water', '.']\n",
    "    #  Using a Tagger. Which is part-of-speech \n",
    "    # tagger or POS-tagger. \n",
    "    tagged = nltk.pos_tag(wordsList)\n",
    "    print(tagged)    \n",
    "    print('_______________________________________________________________________')"
   ]
  },
  {
   "cell_type": "markdown",
   "id": "124692fb-6aac-45e6-a40b-06afa94a6627",
   "metadata": {},
   "source": [
    "# Entities"
   ]
  },
  {
   "cell_type": "code",
   "execution_count": 24,
   "id": "6394af58-26a3-47a5-adaa-f3d662d667e9",
   "metadata": {},
   "outputs": [
    {
     "name": "stderr",
     "output_type": "stream",
     "text": [
      "[nltk_data] Downloading package punkt to\n",
      "[nltk_data]     /Users/sumithbhargav/nltk_data...\n",
      "[nltk_data]   Package punkt is already up-to-date!\n",
      "[nltk_data] Downloading package averaged_perceptron_tagger to\n",
      "[nltk_data]     /Users/sumithbhargav/nltk_data...\n",
      "[nltk_data]   Package averaged_perceptron_tagger is already up-to-\n",
      "[nltk_data]       date!\n",
      "[nltk_data] Downloading package maxent_ne_chunker to\n",
      "[nltk_data]     /Users/sumithbhargav/nltk_data...\n",
      "[nltk_data]   Package maxent_ne_chunker is already up-to-date!\n",
      "[nltk_data] Downloading package words to\n",
      "[nltk_data]     /Users/sumithbhargav/nltk_data...\n",
      "[nltk_data]   Package words is already up-to-date!\n"
     ]
    },
    {
     "data": {
      "text/plain": [
       "True"
      ]
     },
     "execution_count": 24,
     "metadata": {},
     "output_type": "execute_result"
    }
   ],
   "source": [
    "import nltk\n",
    "\n",
    "# Download necessary NLTK data packages\n",
    "nltk.download('punkt')\n",
    "nltk.download('averaged_perceptron_tagger')\n",
    "nltk.download('maxent_ne_chunker')\n",
    "nltk.download('words')"
   ]
  },
  {
   "cell_type": "code",
   "execution_count": 25,
   "id": "b2e74cb5-3e29-47a6-ae1d-b4e72714edf0",
   "metadata": {},
   "outputs": [
    {
     "name": "stdout",
     "output_type": "stream",
     "text": [
      ">>>>>>>>>>>>>>>>>>>>>>>>>>>>>>>>>>>>>>>>>>>>>>>>>>\n",
      "(S give/VB five/CD star/NN ðð/NN «/NNP app/RB good/JJ âºï¸/NN)\n"
     ]
    }
   ],
   "source": [
    "import nltk\n",
    "from nltk.corpus import stopwords\n",
    "from nltk.tokenize import word_tokenize, sent_tokenize\n",
    "stop_words = set(stopwords.words('english'))\n",
    " \n",
    "# Dummy text\n",
    "txt = example\n",
    "# sent_tokenize is one of instances of \n",
    "# PunktSentenceTokenizer from the nltk.tokenize.punkt module\n",
    "\n",
    "#txt = txt.lower()\n",
    "#print(txt)\n",
    "\n",
    "tokenized = sent_tokenize(txt) #Tokenize the whole text in sentences.\n",
    "#print(tokenized)\n",
    "\n",
    "for i in tokenized:\n",
    "    # Word tokenizers is used to find the words \n",
    "    # and punctuation in a string  Once upon a time, There was a thirsty crow who was thirsty and searching for water.\n",
    "    wordsList = nltk.word_tokenize(i)\n",
    "    #print(wordsList)\n",
    "    # removing stop words from wordList\n",
    "    wordsList = [w for w in wordsList if not w.lower() in stop_words] \n",
    "    #print(wordsList)    # ['Once', 'upon', 'time', ',', 'There', 'thirsty', 'crow', 'thirsty', 'searching', 'water', '.']\n",
    "    #  Using a Tagger. Which is part-of-speech \n",
    "    # tagger or POS-tagger. \n",
    "    tagged = nltk.pos_tag(wordsList)\n",
    "    #print(tagged)        \n",
    "    entities = nltk.ne_chunk(tagged)\n",
    "    print(\">>>>>>>>>>>>>>>>>>>>>>>>>>>>>>>>>>>>>>>>>>>>>>>>>>\")\n",
    "    print(entities)"
   ]
  },
  {
   "cell_type": "markdown",
   "id": "52f539db-a46f-4d14-9e60-81e5fd29fc43",
   "metadata": {},
   "source": [
    "# Preprocessing"
   ]
  },
  {
   "cell_type": "code",
   "execution_count": 26,
   "id": "2310cd45-2da2-42ac-ada1-ea063476aff0",
   "metadata": {},
   "outputs": [
    {
     "name": "stdout",
     "output_type": "stream",
     "text": [
      "Music option not working ð\n",
      "__________________________________________________________________\n",
      "music option not working ð\n",
      "__________________________________________________________________\n",
      "music option not working \n",
      "__________________________________________________________________\n",
      "['music', 'option', 'not', 'working']\n",
      "__________________________________________________________________\n",
      "['music', 'option', 'working']\n",
      "__________________________________________________________________\n",
      "['music', 'option', 'working']\n",
      "__________________________________________________________________\n",
      "[('music', 'NN'), ('option', 'NN'), ('working', 'VBG')]\n",
      "__________________________________________________________________\n",
      "(S music/NN option/NN working/VBG)\n",
      "__________________________________________________________________\n",
      "music option working\n"
     ]
    }
   ],
   "source": [
    "import re\n",
    "import nltk  # Import nltk library\n",
    "from nltk.tokenize import word_tokenize\n",
    "from nltk.corpus import stopwords\n",
    "from nltk.stem import WordNetLemmatizer\n",
    "from nltk import pos_tag\n",
    "\n",
    "def preprocess_text(text):\n",
    "    # Convert text to lowercase\n",
    "    text = text.lower()\n",
    "    print(text)\n",
    "    print(\"__________________________________________________________________\")\n",
    "    # Remove special characters, punctuation, and numbers\n",
    "    text = re.sub(r'[^a-zA-Z\\s]', '', text)\n",
    "    print(text)\n",
    "    print(\"__________________________________________________________________\")\n",
    "    # Tokenize text\n",
    "    tokens = word_tokenize(text)\n",
    "    print(tokens)\n",
    "    print(\"__________________________________________________________________\")\n",
    "    # Remove stopwords\n",
    "    stop_words = set(stopwords.words('english'))\n",
    "    tokens = [word for word in tokens if word not in stop_words]\n",
    "    print(tokens)\n",
    "    print(\"__________________________________________________________________\")\n",
    "    # Lemmatization\n",
    "    lemmatizer = WordNetLemmatizer()\n",
    "    tokens = [lemmatizer.lemmatize(word) for word in tokens]\n",
    "    print(tokens)\n",
    "    print(\"__________________________________________________________________\")\n",
    "    # POS tagging\n",
    "    tags = pos_tag(tokens)\n",
    "    print(tags)\n",
    "    print(\"__________________________________________________________________\")\n",
    "    # Named Entity Recognition\n",
    "    entities = nltk.ne_chunk(tags)  # Apply named entity recognition\n",
    "    print(entities)\n",
    "    print(\"__________________________________________________________________\")\n",
    "    # Join tokens back into a single string\n",
    "    preprocessed_text = ' '.join(tokens)\n",
    "    return preprocessed_text\n",
    "\n",
    "# Example usage\n",
    "example = df['content'][0]  # Get the text from the first row of the 'Text' column\n",
    "print(example)  # Printing the example text\n",
    "print(\"__________________________________________________________________\")\n",
    "clean_text = preprocess_text(example)\n",
    "print(clean_text)"
   ]
  },
  {
   "cell_type": "markdown",
   "id": "e285ba10-32cc-4680-b1c9-4d77694eca45",
   "metadata": {},
   "source": [
    "# SPACY"
   ]
  },
  {
   "cell_type": "code",
   "execution_count": 27,
   "id": "acec236c-0b1b-4ef5-9429-b9293c217c43",
   "metadata": {},
   "outputs": [
    {
     "name": "stdout",
     "output_type": "stream",
     "text": [
      "What's Wrong ??? I installed the app many times and updated .. but it's not working.. why I can't log in..\n"
     ]
    }
   ],
   "source": [
    "example = df['content'][60]\n",
    "print(example)"
   ]
  },
  {
   "cell_type": "code",
   "execution_count": 28,
   "id": "5fdcb701-deeb-4a6f-a9e5-99f2d1622fd3",
   "metadata": {},
   "outputs": [
    {
     "name": "stdout",
     "output_type": "stream",
     "text": [
      "_________________________________________________________________________________\n",
      "What PRON nsubj\n",
      "'s AUX ROOT\n",
      "Wrong ADJ acomp\n",
      "? PUNCT punct\n",
      "? PUNCT punct\n",
      "? PUNCT punct\n",
      "I PRON nsubj\n",
      "installed VERB ROOT\n",
      "the DET det\n",
      "app NOUN dobj\n",
      "many ADJ amod\n",
      "times NOUN npadvmod\n",
      "and CCONJ cc\n",
      "updated VERB conj\n",
      ".. PUNCT punct\n",
      "but CCONJ cc\n",
      "it PRON nsubj\n",
      "'s AUX aux\n",
      "not PART neg\n",
      "working VERB ROOT\n",
      ".. PUNCT punct\n",
      "why SCONJ advmod\n",
      "I PRON nsubj\n",
      "ca AUX aux\n",
      "n't PART neg\n",
      "log VERB ccomp\n",
      "in ADP prt\n",
      ".. PUNCT punct\n"
     ]
    }
   ],
   "source": [
    "import spacy \n",
    "obj = spacy.load(\"en_core_web_sm\") #object of class   #(sm is source model, lm is language model)\n",
    "\n",
    "doc = obj(example)\n",
    "print(\"_________________________________________________________________________________\")\n",
    "for token in doc : \n",
    "    print(token.text, token.pos_, token.dep_) #depth is discription of pos tag. "
   ]
  },
  {
   "cell_type": "code",
   "execution_count": 29,
   "id": "7c83a060-9d46-4e13-8835-24696ef1da3a",
   "metadata": {},
   "outputs": [
    {
     "name": "stdout",
     "output_type": "stream",
     "text": [
      "What --> WP --> PRON -->\n",
      "'s --> VBZ --> AUX -->\n",
      "Wrong --> JJ --> ADJ -->\n",
      "? --> . --> PUNCT -->\n",
      "? --> . --> PUNCT -->\n",
      "? --> . --> PUNCT -->\n",
      "I --> PRP --> PRON -->\n",
      "installed --> VBD --> VERB -->\n",
      "the --> DT --> DET -->\n",
      "app --> NN --> NOUN -->\n",
      "many --> JJ --> ADJ -->\n",
      "times --> NNS --> NOUN -->\n",
      "and --> CC --> CCONJ -->\n",
      "updated --> VBN --> VERB -->\n",
      ".. --> . --> PUNCT -->\n",
      "but --> CC --> CCONJ -->\n",
      "it --> PRP --> PRON -->\n",
      "'s --> VBZ --> AUX -->\n",
      "not --> RB --> PART -->\n",
      "working --> VBG --> VERB -->\n",
      ".. --> NFP --> PUNCT -->\n",
      "why --> WRB --> SCONJ -->\n",
      "I --> PRP --> PRON -->\n",
      "ca --> MD --> AUX -->\n",
      "n't --> RB --> PART -->\n",
      "log --> VB --> VERB -->\n",
      "in --> RP --> ADP -->\n",
      ".. --> . --> PUNCT -->\n"
     ]
    }
   ],
   "source": [
    "import spacy \n",
    "obj = spacy.load(\"en_core_web_sm\") \n",
    "\n",
    "#Create an nlp Object\n",
    "rel = obj(example)\n",
    "\n",
    "# Iterate over the tokens\n",
    "for token in rel : \n",
    "    # Print tokens and their part-of-speech tag\n",
    "    print(token, \"-->\", token.tag_, \"-->\", token.pos_, \"-->\")"
   ]
  },
  {
   "cell_type": "code",
   "execution_count": 30,
   "id": "dc27f236-7841-4daa-bd82-49909aee0a38",
   "metadata": {},
   "outputs": [
    {
     "data": {
      "text/html": [
       "<span class=\"tex2jax_ignore\"><svg xmlns=\"http://www.w3.org/2000/svg\" xmlns:xlink=\"http://www.w3.org/1999/xlink\" xml:lang=\"en\" id=\"aeba2314d71e4c52b44d34f472411133-0\" class=\"displacy\" width=\"3900\" height=\"574.5\" direction=\"ltr\" style=\"max-width: none; height: 574.5px; color: #000000; background: #ffffff; font-family: Arial; direction: ltr\">\n",
       "<text class=\"displacy-token\" fill=\"currentColor\" text-anchor=\"middle\" y=\"484.5\">\n",
       "    <tspan class=\"displacy-word\" fill=\"currentColor\" x=\"50\">What</tspan>\n",
       "    <tspan class=\"displacy-tag\" dy=\"2em\" fill=\"currentColor\" x=\"50\">PRON</tspan>\n",
       "</text>\n",
       "\n",
       "<text class=\"displacy-token\" fill=\"currentColor\" text-anchor=\"middle\" y=\"484.5\">\n",
       "    <tspan class=\"displacy-word\" fill=\"currentColor\" x=\"225\">'s</tspan>\n",
       "    <tspan class=\"displacy-tag\" dy=\"2em\" fill=\"currentColor\" x=\"225\">AUX</tspan>\n",
       "</text>\n",
       "\n",
       "<text class=\"displacy-token\" fill=\"currentColor\" text-anchor=\"middle\" y=\"484.5\">\n",
       "    <tspan class=\"displacy-word\" fill=\"currentColor\" x=\"400\">Wrong ???</tspan>\n",
       "    <tspan class=\"displacy-tag\" dy=\"2em\" fill=\"currentColor\" x=\"400\">ADJ</tspan>\n",
       "</text>\n",
       "\n",
       "<text class=\"displacy-token\" fill=\"currentColor\" text-anchor=\"middle\" y=\"484.5\">\n",
       "    <tspan class=\"displacy-word\" fill=\"currentColor\" x=\"575\">I</tspan>\n",
       "    <tspan class=\"displacy-tag\" dy=\"2em\" fill=\"currentColor\" x=\"575\">PRON</tspan>\n",
       "</text>\n",
       "\n",
       "<text class=\"displacy-token\" fill=\"currentColor\" text-anchor=\"middle\" y=\"484.5\">\n",
       "    <tspan class=\"displacy-word\" fill=\"currentColor\" x=\"750\">installed</tspan>\n",
       "    <tspan class=\"displacy-tag\" dy=\"2em\" fill=\"currentColor\" x=\"750\">VERB</tspan>\n",
       "</text>\n",
       "\n",
       "<text class=\"displacy-token\" fill=\"currentColor\" text-anchor=\"middle\" y=\"484.5\">\n",
       "    <tspan class=\"displacy-word\" fill=\"currentColor\" x=\"925\">the</tspan>\n",
       "    <tspan class=\"displacy-tag\" dy=\"2em\" fill=\"currentColor\" x=\"925\">DET</tspan>\n",
       "</text>\n",
       "\n",
       "<text class=\"displacy-token\" fill=\"currentColor\" text-anchor=\"middle\" y=\"484.5\">\n",
       "    <tspan class=\"displacy-word\" fill=\"currentColor\" x=\"1100\">app</tspan>\n",
       "    <tspan class=\"displacy-tag\" dy=\"2em\" fill=\"currentColor\" x=\"1100\">NOUN</tspan>\n",
       "</text>\n",
       "\n",
       "<text class=\"displacy-token\" fill=\"currentColor\" text-anchor=\"middle\" y=\"484.5\">\n",
       "    <tspan class=\"displacy-word\" fill=\"currentColor\" x=\"1275\">many</tspan>\n",
       "    <tspan class=\"displacy-tag\" dy=\"2em\" fill=\"currentColor\" x=\"1275\">ADJ</tspan>\n",
       "</text>\n",
       "\n",
       "<text class=\"displacy-token\" fill=\"currentColor\" text-anchor=\"middle\" y=\"484.5\">\n",
       "    <tspan class=\"displacy-word\" fill=\"currentColor\" x=\"1450\">times</tspan>\n",
       "    <tspan class=\"displacy-tag\" dy=\"2em\" fill=\"currentColor\" x=\"1450\">NOUN</tspan>\n",
       "</text>\n",
       "\n",
       "<text class=\"displacy-token\" fill=\"currentColor\" text-anchor=\"middle\" y=\"484.5\">\n",
       "    <tspan class=\"displacy-word\" fill=\"currentColor\" x=\"1625\">and</tspan>\n",
       "    <tspan class=\"displacy-tag\" dy=\"2em\" fill=\"currentColor\" x=\"1625\">CCONJ</tspan>\n",
       "</text>\n",
       "\n",
       "<text class=\"displacy-token\" fill=\"currentColor\" text-anchor=\"middle\" y=\"484.5\">\n",
       "    <tspan class=\"displacy-word\" fill=\"currentColor\" x=\"1800\">updated ..</tspan>\n",
       "    <tspan class=\"displacy-tag\" dy=\"2em\" fill=\"currentColor\" x=\"1800\">VERB</tspan>\n",
       "</text>\n",
       "\n",
       "<text class=\"displacy-token\" fill=\"currentColor\" text-anchor=\"middle\" y=\"484.5\">\n",
       "    <tspan class=\"displacy-word\" fill=\"currentColor\" x=\"1975\">but</tspan>\n",
       "    <tspan class=\"displacy-tag\" dy=\"2em\" fill=\"currentColor\" x=\"1975\">CCONJ</tspan>\n",
       "</text>\n",
       "\n",
       "<text class=\"displacy-token\" fill=\"currentColor\" text-anchor=\"middle\" y=\"484.5\">\n",
       "    <tspan class=\"displacy-word\" fill=\"currentColor\" x=\"2150\">it</tspan>\n",
       "    <tspan class=\"displacy-tag\" dy=\"2em\" fill=\"currentColor\" x=\"2150\">PRON</tspan>\n",
       "</text>\n",
       "\n",
       "<text class=\"displacy-token\" fill=\"currentColor\" text-anchor=\"middle\" y=\"484.5\">\n",
       "    <tspan class=\"displacy-word\" fill=\"currentColor\" x=\"2325\">'s</tspan>\n",
       "    <tspan class=\"displacy-tag\" dy=\"2em\" fill=\"currentColor\" x=\"2325\">AUX</tspan>\n",
       "</text>\n",
       "\n",
       "<text class=\"displacy-token\" fill=\"currentColor\" text-anchor=\"middle\" y=\"484.5\">\n",
       "    <tspan class=\"displacy-word\" fill=\"currentColor\" x=\"2500\">not</tspan>\n",
       "    <tspan class=\"displacy-tag\" dy=\"2em\" fill=\"currentColor\" x=\"2500\">PART</tspan>\n",
       "</text>\n",
       "\n",
       "<text class=\"displacy-token\" fill=\"currentColor\" text-anchor=\"middle\" y=\"484.5\">\n",
       "    <tspan class=\"displacy-word\" fill=\"currentColor\" x=\"2675\">working..</tspan>\n",
       "    <tspan class=\"displacy-tag\" dy=\"2em\" fill=\"currentColor\" x=\"2675\">VERB</tspan>\n",
       "</text>\n",
       "\n",
       "<text class=\"displacy-token\" fill=\"currentColor\" text-anchor=\"middle\" y=\"484.5\">\n",
       "    <tspan class=\"displacy-word\" fill=\"currentColor\" x=\"2850\">why</tspan>\n",
       "    <tspan class=\"displacy-tag\" dy=\"2em\" fill=\"currentColor\" x=\"2850\">SCONJ</tspan>\n",
       "</text>\n",
       "\n",
       "<text class=\"displacy-token\" fill=\"currentColor\" text-anchor=\"middle\" y=\"484.5\">\n",
       "    <tspan class=\"displacy-word\" fill=\"currentColor\" x=\"3025\">I</tspan>\n",
       "    <tspan class=\"displacy-tag\" dy=\"2em\" fill=\"currentColor\" x=\"3025\">PRON</tspan>\n",
       "</text>\n",
       "\n",
       "<text class=\"displacy-token\" fill=\"currentColor\" text-anchor=\"middle\" y=\"484.5\">\n",
       "    <tspan class=\"displacy-word\" fill=\"currentColor\" x=\"3200\">ca</tspan>\n",
       "    <tspan class=\"displacy-tag\" dy=\"2em\" fill=\"currentColor\" x=\"3200\">AUX</tspan>\n",
       "</text>\n",
       "\n",
       "<text class=\"displacy-token\" fill=\"currentColor\" text-anchor=\"middle\" y=\"484.5\">\n",
       "    <tspan class=\"displacy-word\" fill=\"currentColor\" x=\"3375\">n't</tspan>\n",
       "    <tspan class=\"displacy-tag\" dy=\"2em\" fill=\"currentColor\" x=\"3375\">PART</tspan>\n",
       "</text>\n",
       "\n",
       "<text class=\"displacy-token\" fill=\"currentColor\" text-anchor=\"middle\" y=\"484.5\">\n",
       "    <tspan class=\"displacy-word\" fill=\"currentColor\" x=\"3550\">log</tspan>\n",
       "    <tspan class=\"displacy-tag\" dy=\"2em\" fill=\"currentColor\" x=\"3550\">VERB</tspan>\n",
       "</text>\n",
       "\n",
       "<text class=\"displacy-token\" fill=\"currentColor\" text-anchor=\"middle\" y=\"484.5\">\n",
       "    <tspan class=\"displacy-word\" fill=\"currentColor\" x=\"3725\">in..</tspan>\n",
       "    <tspan class=\"displacy-tag\" dy=\"2em\" fill=\"currentColor\" x=\"3725\">ADP</tspan>\n",
       "</text>\n",
       "\n",
       "<g class=\"displacy-arrow\">\n",
       "    <path class=\"displacy-arc\" id=\"arrow-aeba2314d71e4c52b44d34f472411133-0-0\" stroke-width=\"2px\" d=\"M70,439.5 C70,352.0 205.0,352.0 205.0,439.5\" fill=\"none\" stroke=\"currentColor\"/>\n",
       "    <text dy=\"1.25em\" style=\"font-size: 0.8em; letter-spacing: 1px\">\n",
       "        <textPath xlink:href=\"#arrow-aeba2314d71e4c52b44d34f472411133-0-0\" class=\"displacy-label\" startOffset=\"50%\" side=\"left\" fill=\"currentColor\" text-anchor=\"middle\">nsubj</textPath>\n",
       "    </text>\n",
       "    <path class=\"displacy-arrowhead\" d=\"M70,441.5 L62,429.5 78,429.5\" fill=\"currentColor\"/>\n",
       "</g>\n",
       "\n",
       "<g class=\"displacy-arrow\">\n",
       "    <path class=\"displacy-arc\" id=\"arrow-aeba2314d71e4c52b44d34f472411133-0-1\" stroke-width=\"2px\" d=\"M245,439.5 C245,352.0 380.0,352.0 380.0,439.5\" fill=\"none\" stroke=\"currentColor\"/>\n",
       "    <text dy=\"1.25em\" style=\"font-size: 0.8em; letter-spacing: 1px\">\n",
       "        <textPath xlink:href=\"#arrow-aeba2314d71e4c52b44d34f472411133-0-1\" class=\"displacy-label\" startOffset=\"50%\" side=\"left\" fill=\"currentColor\" text-anchor=\"middle\">acomp</textPath>\n",
       "    </text>\n",
       "    <path class=\"displacy-arrowhead\" d=\"M380.0,441.5 L388.0,429.5 372.0,429.5\" fill=\"currentColor\"/>\n",
       "</g>\n",
       "\n",
       "<g class=\"displacy-arrow\">\n",
       "    <path class=\"displacy-arc\" id=\"arrow-aeba2314d71e4c52b44d34f472411133-0-2\" stroke-width=\"2px\" d=\"M595,439.5 C595,352.0 730.0,352.0 730.0,439.5\" fill=\"none\" stroke=\"currentColor\"/>\n",
       "    <text dy=\"1.25em\" style=\"font-size: 0.8em; letter-spacing: 1px\">\n",
       "        <textPath xlink:href=\"#arrow-aeba2314d71e4c52b44d34f472411133-0-2\" class=\"displacy-label\" startOffset=\"50%\" side=\"left\" fill=\"currentColor\" text-anchor=\"middle\">nsubj</textPath>\n",
       "    </text>\n",
       "    <path class=\"displacy-arrowhead\" d=\"M595,441.5 L587,429.5 603,429.5\" fill=\"currentColor\"/>\n",
       "</g>\n",
       "\n",
       "<g class=\"displacy-arrow\">\n",
       "    <path class=\"displacy-arc\" id=\"arrow-aeba2314d71e4c52b44d34f472411133-0-3\" stroke-width=\"2px\" d=\"M945,439.5 C945,352.0 1080.0,352.0 1080.0,439.5\" fill=\"none\" stroke=\"currentColor\"/>\n",
       "    <text dy=\"1.25em\" style=\"font-size: 0.8em; letter-spacing: 1px\">\n",
       "        <textPath xlink:href=\"#arrow-aeba2314d71e4c52b44d34f472411133-0-3\" class=\"displacy-label\" startOffset=\"50%\" side=\"left\" fill=\"currentColor\" text-anchor=\"middle\">det</textPath>\n",
       "    </text>\n",
       "    <path class=\"displacy-arrowhead\" d=\"M945,441.5 L937,429.5 953,429.5\" fill=\"currentColor\"/>\n",
       "</g>\n",
       "\n",
       "<g class=\"displacy-arrow\">\n",
       "    <path class=\"displacy-arc\" id=\"arrow-aeba2314d71e4c52b44d34f472411133-0-4\" stroke-width=\"2px\" d=\"M770,439.5 C770,264.5 1085.0,264.5 1085.0,439.5\" fill=\"none\" stroke=\"currentColor\"/>\n",
       "    <text dy=\"1.25em\" style=\"font-size: 0.8em; letter-spacing: 1px\">\n",
       "        <textPath xlink:href=\"#arrow-aeba2314d71e4c52b44d34f472411133-0-4\" class=\"displacy-label\" startOffset=\"50%\" side=\"left\" fill=\"currentColor\" text-anchor=\"middle\">dobj</textPath>\n",
       "    </text>\n",
       "    <path class=\"displacy-arrowhead\" d=\"M1085.0,441.5 L1093.0,429.5 1077.0,429.5\" fill=\"currentColor\"/>\n",
       "</g>\n",
       "\n",
       "<g class=\"displacy-arrow\">\n",
       "    <path class=\"displacy-arc\" id=\"arrow-aeba2314d71e4c52b44d34f472411133-0-5\" stroke-width=\"2px\" d=\"M1295,439.5 C1295,352.0 1430.0,352.0 1430.0,439.5\" fill=\"none\" stroke=\"currentColor\"/>\n",
       "    <text dy=\"1.25em\" style=\"font-size: 0.8em; letter-spacing: 1px\">\n",
       "        <textPath xlink:href=\"#arrow-aeba2314d71e4c52b44d34f472411133-0-5\" class=\"displacy-label\" startOffset=\"50%\" side=\"left\" fill=\"currentColor\" text-anchor=\"middle\">amod</textPath>\n",
       "    </text>\n",
       "    <path class=\"displacy-arrowhead\" d=\"M1295,441.5 L1287,429.5 1303,429.5\" fill=\"currentColor\"/>\n",
       "</g>\n",
       "\n",
       "<g class=\"displacy-arrow\">\n",
       "    <path class=\"displacy-arc\" id=\"arrow-aeba2314d71e4c52b44d34f472411133-0-6\" stroke-width=\"2px\" d=\"M770,439.5 C770,177.0 1440.0,177.0 1440.0,439.5\" fill=\"none\" stroke=\"currentColor\"/>\n",
       "    <text dy=\"1.25em\" style=\"font-size: 0.8em; letter-spacing: 1px\">\n",
       "        <textPath xlink:href=\"#arrow-aeba2314d71e4c52b44d34f472411133-0-6\" class=\"displacy-label\" startOffset=\"50%\" side=\"left\" fill=\"currentColor\" text-anchor=\"middle\">npadvmod</textPath>\n",
       "    </text>\n",
       "    <path class=\"displacy-arrowhead\" d=\"M1440.0,441.5 L1448.0,429.5 1432.0,429.5\" fill=\"currentColor\"/>\n",
       "</g>\n",
       "\n",
       "<g class=\"displacy-arrow\">\n",
       "    <path class=\"displacy-arc\" id=\"arrow-aeba2314d71e4c52b44d34f472411133-0-7\" stroke-width=\"2px\" d=\"M770,439.5 C770,89.5 1620.0,89.5 1620.0,439.5\" fill=\"none\" stroke=\"currentColor\"/>\n",
       "    <text dy=\"1.25em\" style=\"font-size: 0.8em; letter-spacing: 1px\">\n",
       "        <textPath xlink:href=\"#arrow-aeba2314d71e4c52b44d34f472411133-0-7\" class=\"displacy-label\" startOffset=\"50%\" side=\"left\" fill=\"currentColor\" text-anchor=\"middle\">cc</textPath>\n",
       "    </text>\n",
       "    <path class=\"displacy-arrowhead\" d=\"M1620.0,441.5 L1628.0,429.5 1612.0,429.5\" fill=\"currentColor\"/>\n",
       "</g>\n",
       "\n",
       "<g class=\"displacy-arrow\">\n",
       "    <path class=\"displacy-arc\" id=\"arrow-aeba2314d71e4c52b44d34f472411133-0-8\" stroke-width=\"2px\" d=\"M770,439.5 C770,2.0 1800.0,2.0 1800.0,439.5\" fill=\"none\" stroke=\"currentColor\"/>\n",
       "    <text dy=\"1.25em\" style=\"font-size: 0.8em; letter-spacing: 1px\">\n",
       "        <textPath xlink:href=\"#arrow-aeba2314d71e4c52b44d34f472411133-0-8\" class=\"displacy-label\" startOffset=\"50%\" side=\"left\" fill=\"currentColor\" text-anchor=\"middle\">conj</textPath>\n",
       "    </text>\n",
       "    <path class=\"displacy-arrowhead\" d=\"M1800.0,441.5 L1808.0,429.5 1792.0,429.5\" fill=\"currentColor\"/>\n",
       "</g>\n",
       "\n",
       "<g class=\"displacy-arrow\">\n",
       "    <path class=\"displacy-arc\" id=\"arrow-aeba2314d71e4c52b44d34f472411133-0-9\" stroke-width=\"2px\" d=\"M1995,439.5 C1995,89.5 2670.0,89.5 2670.0,439.5\" fill=\"none\" stroke=\"currentColor\"/>\n",
       "    <text dy=\"1.25em\" style=\"font-size: 0.8em; letter-spacing: 1px\">\n",
       "        <textPath xlink:href=\"#arrow-aeba2314d71e4c52b44d34f472411133-0-9\" class=\"displacy-label\" startOffset=\"50%\" side=\"left\" fill=\"currentColor\" text-anchor=\"middle\">cc</textPath>\n",
       "    </text>\n",
       "    <path class=\"displacy-arrowhead\" d=\"M1995,441.5 L1987,429.5 2003,429.5\" fill=\"currentColor\"/>\n",
       "</g>\n",
       "\n",
       "<g class=\"displacy-arrow\">\n",
       "    <path class=\"displacy-arc\" id=\"arrow-aeba2314d71e4c52b44d34f472411133-0-10\" stroke-width=\"2px\" d=\"M2170,439.5 C2170,177.0 2665.0,177.0 2665.0,439.5\" fill=\"none\" stroke=\"currentColor\"/>\n",
       "    <text dy=\"1.25em\" style=\"font-size: 0.8em; letter-spacing: 1px\">\n",
       "        <textPath xlink:href=\"#arrow-aeba2314d71e4c52b44d34f472411133-0-10\" class=\"displacy-label\" startOffset=\"50%\" side=\"left\" fill=\"currentColor\" text-anchor=\"middle\">nsubj</textPath>\n",
       "    </text>\n",
       "    <path class=\"displacy-arrowhead\" d=\"M2170,441.5 L2162,429.5 2178,429.5\" fill=\"currentColor\"/>\n",
       "</g>\n",
       "\n",
       "<g class=\"displacy-arrow\">\n",
       "    <path class=\"displacy-arc\" id=\"arrow-aeba2314d71e4c52b44d34f472411133-0-11\" stroke-width=\"2px\" d=\"M2345,439.5 C2345,264.5 2660.0,264.5 2660.0,439.5\" fill=\"none\" stroke=\"currentColor\"/>\n",
       "    <text dy=\"1.25em\" style=\"font-size: 0.8em; letter-spacing: 1px\">\n",
       "        <textPath xlink:href=\"#arrow-aeba2314d71e4c52b44d34f472411133-0-11\" class=\"displacy-label\" startOffset=\"50%\" side=\"left\" fill=\"currentColor\" text-anchor=\"middle\">aux</textPath>\n",
       "    </text>\n",
       "    <path class=\"displacy-arrowhead\" d=\"M2345,441.5 L2337,429.5 2353,429.5\" fill=\"currentColor\"/>\n",
       "</g>\n",
       "\n",
       "<g class=\"displacy-arrow\">\n",
       "    <path class=\"displacy-arc\" id=\"arrow-aeba2314d71e4c52b44d34f472411133-0-12\" stroke-width=\"2px\" d=\"M2520,439.5 C2520,352.0 2655.0,352.0 2655.0,439.5\" fill=\"none\" stroke=\"currentColor\"/>\n",
       "    <text dy=\"1.25em\" style=\"font-size: 0.8em; letter-spacing: 1px\">\n",
       "        <textPath xlink:href=\"#arrow-aeba2314d71e4c52b44d34f472411133-0-12\" class=\"displacy-label\" startOffset=\"50%\" side=\"left\" fill=\"currentColor\" text-anchor=\"middle\">neg</textPath>\n",
       "    </text>\n",
       "    <path class=\"displacy-arrowhead\" d=\"M2520,441.5 L2512,429.5 2528,429.5\" fill=\"currentColor\"/>\n",
       "</g>\n",
       "\n",
       "<g class=\"displacy-arrow\">\n",
       "    <path class=\"displacy-arc\" id=\"arrow-aeba2314d71e4c52b44d34f472411133-0-13\" stroke-width=\"2px\" d=\"M2870,439.5 C2870,89.5 3545.0,89.5 3545.0,439.5\" fill=\"none\" stroke=\"currentColor\"/>\n",
       "    <text dy=\"1.25em\" style=\"font-size: 0.8em; letter-spacing: 1px\">\n",
       "        <textPath xlink:href=\"#arrow-aeba2314d71e4c52b44d34f472411133-0-13\" class=\"displacy-label\" startOffset=\"50%\" side=\"left\" fill=\"currentColor\" text-anchor=\"middle\">advmod</textPath>\n",
       "    </text>\n",
       "    <path class=\"displacy-arrowhead\" d=\"M2870,441.5 L2862,429.5 2878,429.5\" fill=\"currentColor\"/>\n",
       "</g>\n",
       "\n",
       "<g class=\"displacy-arrow\">\n",
       "    <path class=\"displacy-arc\" id=\"arrow-aeba2314d71e4c52b44d34f472411133-0-14\" stroke-width=\"2px\" d=\"M3045,439.5 C3045,177.0 3540.0,177.0 3540.0,439.5\" fill=\"none\" stroke=\"currentColor\"/>\n",
       "    <text dy=\"1.25em\" style=\"font-size: 0.8em; letter-spacing: 1px\">\n",
       "        <textPath xlink:href=\"#arrow-aeba2314d71e4c52b44d34f472411133-0-14\" class=\"displacy-label\" startOffset=\"50%\" side=\"left\" fill=\"currentColor\" text-anchor=\"middle\">nsubj</textPath>\n",
       "    </text>\n",
       "    <path class=\"displacy-arrowhead\" d=\"M3045,441.5 L3037,429.5 3053,429.5\" fill=\"currentColor\"/>\n",
       "</g>\n",
       "\n",
       "<g class=\"displacy-arrow\">\n",
       "    <path class=\"displacy-arc\" id=\"arrow-aeba2314d71e4c52b44d34f472411133-0-15\" stroke-width=\"2px\" d=\"M3220,439.5 C3220,264.5 3535.0,264.5 3535.0,439.5\" fill=\"none\" stroke=\"currentColor\"/>\n",
       "    <text dy=\"1.25em\" style=\"font-size: 0.8em; letter-spacing: 1px\">\n",
       "        <textPath xlink:href=\"#arrow-aeba2314d71e4c52b44d34f472411133-0-15\" class=\"displacy-label\" startOffset=\"50%\" side=\"left\" fill=\"currentColor\" text-anchor=\"middle\">aux</textPath>\n",
       "    </text>\n",
       "    <path class=\"displacy-arrowhead\" d=\"M3220,441.5 L3212,429.5 3228,429.5\" fill=\"currentColor\"/>\n",
       "</g>\n",
       "\n",
       "<g class=\"displacy-arrow\">\n",
       "    <path class=\"displacy-arc\" id=\"arrow-aeba2314d71e4c52b44d34f472411133-0-16\" stroke-width=\"2px\" d=\"M3395,439.5 C3395,352.0 3530.0,352.0 3530.0,439.5\" fill=\"none\" stroke=\"currentColor\"/>\n",
       "    <text dy=\"1.25em\" style=\"font-size: 0.8em; letter-spacing: 1px\">\n",
       "        <textPath xlink:href=\"#arrow-aeba2314d71e4c52b44d34f472411133-0-16\" class=\"displacy-label\" startOffset=\"50%\" side=\"left\" fill=\"currentColor\" text-anchor=\"middle\">neg</textPath>\n",
       "    </text>\n",
       "    <path class=\"displacy-arrowhead\" d=\"M3395,441.5 L3387,429.5 3403,429.5\" fill=\"currentColor\"/>\n",
       "</g>\n",
       "\n",
       "<g class=\"displacy-arrow\">\n",
       "    <path class=\"displacy-arc\" id=\"arrow-aeba2314d71e4c52b44d34f472411133-0-17\" stroke-width=\"2px\" d=\"M2695,439.5 C2695,2.0 3550.0,2.0 3550.0,439.5\" fill=\"none\" stroke=\"currentColor\"/>\n",
       "    <text dy=\"1.25em\" style=\"font-size: 0.8em; letter-spacing: 1px\">\n",
       "        <textPath xlink:href=\"#arrow-aeba2314d71e4c52b44d34f472411133-0-17\" class=\"displacy-label\" startOffset=\"50%\" side=\"left\" fill=\"currentColor\" text-anchor=\"middle\">ccomp</textPath>\n",
       "    </text>\n",
       "    <path class=\"displacy-arrowhead\" d=\"M3550.0,441.5 L3558.0,429.5 3542.0,429.5\" fill=\"currentColor\"/>\n",
       "</g>\n",
       "\n",
       "<g class=\"displacy-arrow\">\n",
       "    <path class=\"displacy-arc\" id=\"arrow-aeba2314d71e4c52b44d34f472411133-0-18\" stroke-width=\"2px\" d=\"M3570,439.5 C3570,352.0 3705.0,352.0 3705.0,439.5\" fill=\"none\" stroke=\"currentColor\"/>\n",
       "    <text dy=\"1.25em\" style=\"font-size: 0.8em; letter-spacing: 1px\">\n",
       "        <textPath xlink:href=\"#arrow-aeba2314d71e4c52b44d34f472411133-0-18\" class=\"displacy-label\" startOffset=\"50%\" side=\"left\" fill=\"currentColor\" text-anchor=\"middle\">prt</textPath>\n",
       "    </text>\n",
       "    <path class=\"displacy-arrowhead\" d=\"M3705.0,441.5 L3713.0,429.5 3697.0,429.5\" fill=\"currentColor\"/>\n",
       "</g>\n",
       "</svg></span>"
      ],
      "text/plain": [
       "<IPython.core.display.HTML object>"
      ]
     },
     "metadata": {},
     "output_type": "display_data"
    }
   ],
   "source": [
    "import spacy \n",
    "from spacy import displacy \n",
    "nlp = spacy.load(\"en_core_web_sm\") \n",
    "\n",
    "doc = nlp(example)\n",
    "displacy.render(doc, style = \"dep\", jupyter = True)"
   ]
  },
  {
   "cell_type": "code",
   "execution_count": 31,
   "id": "becee573-ce4d-4a67-bb1e-8d95736676a8",
   "metadata": {},
   "outputs": [
    {
     "name": "stdout",
     "output_type": "stream",
     "text": [
      "What ----> WP ----> PRON ----> wh-pronoun, personal\n",
      "'s ----> VBZ ----> AUX ----> verb, 3rd person singular present\n",
      "Wrong ----> JJ ----> ADJ ----> adjective (English), other noun-modifier (Chinese)\n",
      "? ----> . ----> PUNCT ----> punctuation mark, sentence closer\n",
      "? ----> . ----> PUNCT ----> punctuation mark, sentence closer\n",
      "? ----> . ----> PUNCT ----> punctuation mark, sentence closer\n",
      "I ----> PRP ----> PRON ----> pronoun, personal\n",
      "installed ----> VBD ----> VERB ----> verb, past tense\n",
      "the ----> DT ----> DET ----> determiner\n",
      "app ----> NN ----> NOUN ----> noun, singular or mass\n",
      "many ----> JJ ----> ADJ ----> adjective (English), other noun-modifier (Chinese)\n",
      "times ----> NNS ----> NOUN ----> noun, plural\n",
      "and ----> CC ----> CCONJ ----> conjunction, coordinating\n",
      "updated ----> VBN ----> VERB ----> verb, past participle\n",
      ".. ----> . ----> PUNCT ----> punctuation mark, sentence closer\n",
      "but ----> CC ----> CCONJ ----> conjunction, coordinating\n",
      "it ----> PRP ----> PRON ----> pronoun, personal\n",
      "'s ----> VBZ ----> AUX ----> verb, 3rd person singular present\n",
      "not ----> RB ----> PART ----> adverb\n",
      "working ----> VBG ----> VERB ----> verb, gerund or present participle\n",
      ".. ----> NFP ----> PUNCT ----> superfluous punctuation\n",
      "why ----> WRB ----> SCONJ ----> wh-adverb\n",
      "I ----> PRP ----> PRON ----> pronoun, personal\n",
      "ca ----> MD ----> AUX ----> verb, modal auxiliary\n",
      "n't ----> RB ----> PART ----> adverb\n",
      "log ----> VB ----> VERB ----> verb, base form\n",
      "in ----> RP ----> ADP ----> adverb, particle\n",
      ".. ----> . ----> PUNCT ----> punctuation mark, sentence closer\n"
     ]
    }
   ],
   "source": [
    "import spacy\n",
    "obj = spacy.load(\"en_core_web_sm\") # Object of class Spacy \n",
    "\n",
    "# Create an obj object \n",
    "rel = obj(example)\n",
    "\n",
    "# Iterate over the tokens \n",
    "for token in rel:\n",
    "    # Print the token and its parts-of-speech tag \n",
    "    print(token, \"---->\", token.tag_, \"---->\", token.pos_,\"---->\", spacy.explain(token.tag_))"
   ]
  },
  {
   "cell_type": "code",
   "execution_count": 32,
   "id": "e4219388-fcfd-47cb-b65d-d923f9ee51c1",
   "metadata": {},
   "outputs": [],
   "source": [
    "for word in rel.ents:\n",
    "    print(word.text, word.label_)"
   ]
  },
  {
   "cell_type": "code",
   "execution_count": 33,
   "id": "2c49a999-3767-4f7b-9768-0b13fcb41397",
   "metadata": {},
   "outputs": [],
   "source": [
    "for ent in rel.ents:\n",
    "    print(ent.text, ent.start_char, ent.end_char, ent.label_)"
   ]
  },
  {
   "cell_type": "code",
   "execution_count": 34,
   "id": "6c4588b6-28e5-4b68-8bf8-af83c6772fdd",
   "metadata": {},
   "outputs": [
    {
     "data": {
      "text/plain": [
       "'auxiliary'"
      ]
     },
     "execution_count": 34,
     "metadata": {},
     "output_type": "execute_result"
    }
   ],
   "source": [
    "spacy.explain(\"AUX\")"
   ]
  },
  {
   "cell_type": "code",
   "execution_count": 35,
   "id": "c8df9315-55a6-4a5f-85d9-bdc5c9f21f6a",
   "metadata": {},
   "outputs": [
    {
     "name": "stderr",
     "output_type": "stream",
     "text": [
      "/Applications/anaconda3/lib/python3.11/site-packages/spacy/displacy/__init__.py:213: UserWarning: [W006] No entities to visualize found in Doc object. If this is surprising to you, make sure the Doc was processed using a model that supports named entity recognition, and check the `doc.ents` property manually if necessary.\n",
      "  warnings.warn(Warnings.W006)\n"
     ]
    },
    {
     "data": {
      "text/html": [
       "<span class=\"tex2jax_ignore\"><div class=\"entities\" style=\"line-height: 2.5; direction: ltr\">What's Wrong ??? I installed the app many times and updated .. but it's not working.. why I can't log in..</div></span>"
      ],
      "text/plain": [
       "<IPython.core.display.HTML object>"
      ]
     },
     "metadata": {},
     "output_type": "display_data"
    }
   ],
   "source": [
    "displacy.render(rel, style = \"ent\", jupyter = True)"
   ]
  },
  {
   "cell_type": "markdown",
   "id": "e05ed383-f187-4189-a8e2-1d8831edf0d3",
   "metadata": {},
   "source": [
    "# Sentiment Analysis "
   ]
  },
  {
   "cell_type": "code",
   "execution_count": 36,
   "id": "09aae40a-a935-410b-8152-14481ba60426",
   "metadata": {},
   "outputs": [],
   "source": [
    "import pandas as pd\n",
    "import numpy as np\n",
    "import matplotlib.pyplot as plt\n",
    "import seaborn as sns\n",
    "\n",
    "plt.style.use('ggplot')\n",
    "\n",
    "import nltk"
   ]
  },
  {
   "cell_type": "code",
   "execution_count": 37,
   "id": "ddd31de7-615f-4e5c-96c9-2b4cae26b64f",
   "metadata": {},
   "outputs": [
    {
     "name": "stdout",
     "output_type": "stream",
     "text": [
      "(10000, 3)\n"
     ]
    }
   ],
   "source": [
    "df = pd.read_csv('Instagram.csv')\n",
    "print(df.shape)"
   ]
  },
  {
   "cell_type": "code",
   "execution_count": 38,
   "id": "6de9a56b-c576-4671-8e6b-8e122b74aa6e",
   "metadata": {},
   "outputs": [
    {
     "data": {
      "text/html": [
       "<div>\n",
       "<style scoped>\n",
       "    .dataframe tbody tr th:only-of-type {\n",
       "        vertical-align: middle;\n",
       "    }\n",
       "\n",
       "    .dataframe tbody tr th {\n",
       "        vertical-align: top;\n",
       "    }\n",
       "\n",
       "    .dataframe thead th {\n",
       "        text-align: right;\n",
       "    }\n",
       "</style>\n",
       "<table border=\"1\" class=\"dataframe\">\n",
       "  <thead>\n",
       "    <tr style=\"text-align: right;\">\n",
       "      <th></th>\n",
       "      <th>reviewId</th>\n",
       "      <th>content</th>\n",
       "      <th>score</th>\n",
       "    </tr>\n",
       "  </thead>\n",
       "  <tbody>\n",
       "    <tr>\n",
       "      <th>0</th>\n",
       "      <td>4065aac6-a7b5-41dd-90ed-d2f864fa91e2</td>\n",
       "      <td>Music option not working 😔</td>\n",
       "      <td>1</td>\n",
       "    </tr>\n",
       "    <tr>\n",
       "      <th>1</th>\n",
       "      <td>9130aa7d-d368-498f-a21b-05253a65d9e5</td>\n",
       "      <td>Love this App</td>\n",
       "      <td>5</td>\n",
       "    </tr>\n",
       "    <tr>\n",
       "      <th>2</th>\n",
       "      <td>ec8ff3a5-7a8e-4e9f-b4a3-6eb4b9e31692</td>\n",
       "      <td>Triphal re I'ma g hi nopzA,</td>\n",
       "      <td>4</td>\n",
       "    </tr>\n",
       "    <tr>\n",
       "      <th>3</th>\n",
       "      <td>127c8258-966c-46ea-9ae6-78e6eca1da33</td>\n",
       "      <td>Instagram ka dp ka bhi system thik nahi he or ...</td>\n",
       "      <td>5</td>\n",
       "    </tr>\n",
       "    <tr>\n",
       "      <th>4</th>\n",
       "      <td>02a9e2f9-ffee-49bf-837d-935473883ce0</td>\n",
       "      <td>awsome</td>\n",
       "      <td>5</td>\n",
       "    </tr>\n",
       "  </tbody>\n",
       "</table>\n",
       "</div>"
      ],
      "text/plain": [
       "                               reviewId  \\\n",
       "0  4065aac6-a7b5-41dd-90ed-d2f864fa91e2   \n",
       "1  9130aa7d-d368-498f-a21b-05253a65d9e5   \n",
       "2  ec8ff3a5-7a8e-4e9f-b4a3-6eb4b9e31692   \n",
       "3  127c8258-966c-46ea-9ae6-78e6eca1da33   \n",
       "4  02a9e2f9-ffee-49bf-837d-935473883ce0   \n",
       "\n",
       "                                             content  score  \n",
       "0                         Music option not working 😔      1  \n",
       "1                                      Love this App      5  \n",
       "2                        Triphal re I'ma g hi nopzA,      4  \n",
       "3  Instagram ka dp ka bhi system thik nahi he or ...      5  \n",
       "4                                             awsome      5  "
      ]
     },
     "execution_count": 38,
     "metadata": {},
     "output_type": "execute_result"
    }
   ],
   "source": [
    "df.head()"
   ]
  },
  {
   "cell_type": "markdown",
   "id": "85e53caf-63e8-4561-b145-4f0fadf81bca",
   "metadata": {},
   "source": [
    "# Quick EDA"
   ]
  },
  {
   "cell_type": "code",
   "execution_count": 39,
   "id": "0d174e74-451a-43ca-bd28-6462d32c1a0b",
   "metadata": {},
   "outputs": [
    {
     "data": {
      "image/png": "[encoded data removed]",
      "text/plain": [
       "<Figure size 1000x500 with 1 Axes>"
      ]
     },
     "metadata": {},
     "output_type": "display_data"
    }
   ],
   "source": [
    "ax = df['score'].value_counts().sort_index() \\\n",
    "          .plot(kind='bar',\n",
    "          title='Count of Reviews by Stars',\n",
    "          figsize=(10, 5))\n",
    "ax.set_xlabel('Review Stars')\n",
    "plt.show()"
   ]
  },
  {
   "cell_type": "markdown",
   "id": "f1acb436-f62d-46f5-b5be-09720a2298bd",
   "metadata": {},
   "source": [
    "# Basic NLTK"
   ]
  },
  {
   "cell_type": "code",
   "execution_count": 40,
   "id": "a09c7197-5fa0-40ff-aecd-289440be6e0b",
   "metadata": {},
   "outputs": [
    {
     "name": "stdout",
     "output_type": "stream",
     "text": [
      "(100, 3)\n"
     ]
    }
   ],
   "source": [
    "#Downscale\n",
    "df = df.head(100)\n",
    "print(df.shape)"
   ]
  },
  {
   "cell_type": "code",
   "execution_count": 41,
   "id": "9b9c7b44-8a1d-40ad-bd2a-f75bbb4a2e63",
   "metadata": {},
   "outputs": [
    {
     "name": "stdout",
     "output_type": "stream",
     "text": [
      "It disables so many of my accounts in which i dont like\n"
     ]
    }
   ],
   "source": [
    "example = df['content'][31]\n",
    "print(example)"
   ]
  },
  {
   "cell_type": "code",
   "execution_count": 42,
   "id": "624e489b-dde6-4591-9f71-3707204cc10f",
   "metadata": {},
   "outputs": [
    {
     "data": {
      "text/plain": [
       "['It',\n",
       " 'disables',\n",
       " 'so',\n",
       " 'many',\n",
       " 'of',\n",
       " 'my',\n",
       " 'accounts',\n",
       " 'in',\n",
       " 'which',\n",
       " 'i',\n",
       " 'dont',\n",
       " 'like']"
      ]
     },
     "execution_count": 42,
     "metadata": {},
     "output_type": "execute_result"
    }
   ],
   "source": [
    "tokens = nltk.word_tokenize(example)\n",
    "tokens[:12]"
   ]
  },
  {
   "cell_type": "code",
   "execution_count": 43,
   "id": "f2c661fa-7838-4cec-ae82-85e55871fa15",
   "metadata": {},
   "outputs": [
    {
     "data": {
      "text/plain": [
       "[('in', 'IN'), ('which', 'WDT'), ('i', 'VBP'), ('dont', 'VBP'), ('like', 'IN')]"
      ]
     },
     "execution_count": 43,
     "metadata": {},
     "output_type": "execute_result"
    }
   ],
   "source": [
    "tagged = nltk.pos_tag(tokens)\n",
    "tagged[-5:]"
   ]
  },
  {
   "cell_type": "code",
   "execution_count": 44,
   "id": "f728ac29-b607-4c30-9da0-6efff73be942",
   "metadata": {},
   "outputs": [
    {
     "name": "stdout",
     "output_type": "stream",
     "text": [
      "(S\n",
      "  It/PRP\n",
      "  disables/VBZ\n",
      "  so/RB\n",
      "  many/JJ\n",
      "  of/IN\n",
      "  my/PRP$\n",
      "  accounts/NNS\n",
      "  in/IN\n",
      "  which/WDT\n",
      "  i/VBP\n",
      "  dont/VBP\n",
      "  like/IN)\n"
     ]
    }
   ],
   "source": [
    "entities = nltk.chunk.ne_chunk(tagged)\n",
    "print(entities)\n",
    "#entities.pprint()"
   ]
  },
  {
   "cell_type": "markdown",
   "id": "feca2737-a203-41f3-9f00-f8a2c799c9bf",
   "metadata": {},
   "source": [
    "# Step 1. VADER Sentiment Scoring"
   ]
  },
  {
   "cell_type": "code",
   "execution_count": 45,
   "id": "67d7b649-36e0-44ab-b7c5-e23e9582aa1c",
   "metadata": {},
   "outputs": [
    {
     "name": "stderr",
     "output_type": "stream",
     "text": [
      "[nltk_data] Downloading package vader_lexicon to\n",
      "[nltk_data]     /Users/sumithbhargav/nltk_data...\n",
      "[nltk_data]   Package vader_lexicon is already up-to-date!\n"
     ]
    },
    {
     "data": {
      "text/plain": [
       "True"
      ]
     },
     "execution_count": 45,
     "metadata": {},
     "output_type": "execute_result"
    }
   ],
   "source": [
    "import nltk\n",
    "nltk.download('vader_lexicon')\n"
   ]
  },
  {
   "cell_type": "code",
   "execution_count": 46,
   "id": "43b70193-3c89-412a-a0b7-1cd7a162bf98",
   "metadata": {},
   "outputs": [
    {
     "name": "stdout",
     "output_type": "stream",
     "text": [
      "Requirement already satisfied: tqdm in /Applications/anaconda3/lib/python3.11/site-packages (4.66.2)\n",
      "Note: you may need to restart the kernel to use updated packages.\n"
     ]
    }
   ],
   "source": [
    "pip install --upgrade tqdm"
   ]
  },
  {
   "cell_type": "code",
   "execution_count": 47,
   "id": "c1733adc-6b53-45a4-8044-5110adb0c800",
   "metadata": {},
   "outputs": [
    {
     "name": "stdout",
     "output_type": "stream",
     "text": [
      "Requirement already satisfied: nltk in /Applications/anaconda3/lib/python3.11/site-packages (3.8.1)\n",
      "Requirement already satisfied: click in /Applications/anaconda3/lib/python3.11/site-packages (from nltk) (8.0.4)\n",
      "Requirement already satisfied: joblib in /Applications/anaconda3/lib/python3.11/site-packages (from nltk) (1.2.0)\n",
      "Requirement already satisfied: regex>=2021.8.3 in /Applications/anaconda3/lib/python3.11/site-packages (from nltk) (2022.7.9)\n",
      "Requirement already satisfied: tqdm in /Applications/anaconda3/lib/python3.11/site-packages (from nltk) (4.66.2)\n",
      "Note: you may need to restart the kernel to use updated packages.\n"
     ]
    }
   ],
   "source": [
    "pip install --upgrade nltk\n"
   ]
  },
  {
   "cell_type": "code",
   "execution_count": 48,
   "id": "91c9a3c9-e881-4e73-abea-e47427b4dc51",
   "metadata": {},
   "outputs": [],
   "source": [
    "from nltk.sentiment import SentimentIntensityAnalyzer\n",
    "from tqdm.notebook import tqdm\n",
    "\n",
    "sia = SentimentIntensityAnalyzer()"
   ]
  },
  {
   "cell_type": "code",
   "execution_count": 49,
   "id": "99d73879-cd5e-4de7-8fab-15f336634c55",
   "metadata": {},
   "outputs": [],
   "source": [
    "from nltk.sentiment.vader import SentimentIntensityAnalyzer\n"
   ]
  },
  {
   "cell_type": "code",
   "execution_count": 50,
   "id": "5abcfc48-e927-4679-b7cd-8e7cf972ee0d",
   "metadata": {},
   "outputs": [
    {
     "name": "stderr",
     "output_type": "stream",
     "text": [
      "[nltk_data] Downloading package vader_lexicon to\n",
      "[nltk_data]     /Users/sumithbhargav/nltk_data...\n",
      "[nltk_data]   Package vader_lexicon is already up-to-date!\n",
      "100%|████████████████████████████████████████| 10/10 [00:00<00:00, 83220.32it/s]\n"
     ]
    }
   ],
   "source": [
    "import nltk\n",
    "from nltk.sentiment.vader import SentimentIntensityAnalyzer\n",
    "from tqdm import tqdm\n",
    "\n",
    "# Download NLTK data\n",
    "nltk.download('vader_lexicon')\n",
    "\n",
    "sia = SentimentIntensityAnalyzer()\n",
    "\n",
    "# Example usage of tqdm\n",
    "for i in tqdm(range(10)):\n",
    "    # Your code here\n",
    "    pass"
   ]
  },
  {
   "cell_type": "code",
   "execution_count": 51,
   "id": "0cbfce44-1739-4712-a1ad-bca68d391fd2",
   "metadata": {},
   "outputs": [
    {
     "data": {
      "text/plain": [
       "{'neg': 0.174, 'neu': 0.826, 'pos': 0.0, 'compound': -0.2755}"
      ]
     },
     "execution_count": 51,
     "metadata": {},
     "output_type": "execute_result"
    }
   ],
   "source": [
    "sia.polarity_scores(example)"
   ]
  },
  {
   "cell_type": "code",
   "execution_count": 54,
   "id": "d59d97cb-2f11-4f89-9342-5801ea4bed3d",
   "metadata": {},
   "outputs": [
    {
     "name": "stderr",
     "output_type": "stream",
     "text": [
      "100%|███████████████████████████████████████| 100/100 [00:00<00:00, 4396.36it/s]\n"
     ]
    }
   ],
   "source": [
    "# Run the polarity score on the entire dataset\n",
    "extdata = {}\n",
    "for i, row in tqdm(df.iterrows(), total=len(df)):\n",
    "    text = row['content']\n",
    "    myid = row['reviewId']\n",
    "    extdata[myid] = sia.polarity_scores(text)"
   ]
  },
  {
   "cell_type": "code",
   "execution_count": 55,
   "id": "a531d7b1-00b9-46c0-836d-b497fd3f65ca",
   "metadata": {},
   "outputs": [],
   "source": [
    "vaders = pd.DataFrame(extdata).T\n",
    "vaders = vaders.reset_index().rename(columns={'index': 'reviewId'})\n",
    "vaders = vaders.merge(df, how='left')"
   ]
  },
  {
   "cell_type": "code",
   "execution_count": 56,
   "id": "70a0b4b9-3eb3-4d22-aecb-1a660ad8d546",
   "metadata": {},
   "outputs": [
    {
     "data": {
      "text/html": [
       "<div>\n",
       "<style scoped>\n",
       "    .dataframe tbody tr th:only-of-type {\n",
       "        vertical-align: middle;\n",
       "    }\n",
       "\n",
       "    .dataframe tbody tr th {\n",
       "        vertical-align: top;\n",
       "    }\n",
       "\n",
       "    .dataframe thead th {\n",
       "        text-align: right;\n",
       "    }\n",
       "</style>\n",
       "<table border=\"1\" class=\"dataframe\">\n",
       "  <thead>\n",
       "    <tr style=\"text-align: right;\">\n",
       "      <th></th>\n",
       "      <th>reviewId</th>\n",
       "      <th>neg</th>\n",
       "      <th>neu</th>\n",
       "      <th>pos</th>\n",
       "      <th>compound</th>\n",
       "      <th>content</th>\n",
       "      <th>score</th>\n",
       "    </tr>\n",
       "  </thead>\n",
       "  <tbody>\n",
       "    <tr>\n",
       "      <th>0</th>\n",
       "      <td>4065aac6-a7b5-41dd-90ed-d2f864fa91e2</td>\n",
       "      <td>0.0</td>\n",
       "      <td>1.000</td>\n",
       "      <td>0.000</td>\n",
       "      <td>0.0000</td>\n",
       "      <td>Music option not working 😔</td>\n",
       "      <td>1</td>\n",
       "    </tr>\n",
       "    <tr>\n",
       "      <th>1</th>\n",
       "      <td>9130aa7d-d368-498f-a21b-05253a65d9e5</td>\n",
       "      <td>0.0</td>\n",
       "      <td>0.323</td>\n",
       "      <td>0.677</td>\n",
       "      <td>0.6369</td>\n",
       "      <td>Love this App</td>\n",
       "      <td>5</td>\n",
       "    </tr>\n",
       "    <tr>\n",
       "      <th>2</th>\n",
       "      <td>ec8ff3a5-7a8e-4e9f-b4a3-6eb4b9e31692</td>\n",
       "      <td>0.0</td>\n",
       "      <td>1.000</td>\n",
       "      <td>0.000</td>\n",
       "      <td>0.0000</td>\n",
       "      <td>Triphal re I'ma g hi nopzA,</td>\n",
       "      <td>4</td>\n",
       "    </tr>\n",
       "    <tr>\n",
       "      <th>3</th>\n",
       "      <td>127c8258-966c-46ea-9ae6-78e6eca1da33</td>\n",
       "      <td>0.0</td>\n",
       "      <td>1.000</td>\n",
       "      <td>0.000</td>\n",
       "      <td>0.0000</td>\n",
       "      <td>Instagram ka dp ka bhi system thik nahi he or ...</td>\n",
       "      <td>5</td>\n",
       "    </tr>\n",
       "    <tr>\n",
       "      <th>4</th>\n",
       "      <td>02a9e2f9-ffee-49bf-837d-935473883ce0</td>\n",
       "      <td>0.0</td>\n",
       "      <td>1.000</td>\n",
       "      <td>0.000</td>\n",
       "      <td>0.0000</td>\n",
       "      <td>awsome</td>\n",
       "      <td>5</td>\n",
       "    </tr>\n",
       "  </tbody>\n",
       "</table>\n",
       "</div>"
      ],
      "text/plain": [
       "                               reviewId  neg    neu    pos  compound  \\\n",
       "0  4065aac6-a7b5-41dd-90ed-d2f864fa91e2  0.0  1.000  0.000    0.0000   \n",
       "1  9130aa7d-d368-498f-a21b-05253a65d9e5  0.0  0.323  0.677    0.6369   \n",
       "2  ec8ff3a5-7a8e-4e9f-b4a3-6eb4b9e31692  0.0  1.000  0.000    0.0000   \n",
       "3  127c8258-966c-46ea-9ae6-78e6eca1da33  0.0  1.000  0.000    0.0000   \n",
       "4  02a9e2f9-ffee-49bf-837d-935473883ce0  0.0  1.000  0.000    0.0000   \n",
       "\n",
       "                                             content  score  \n",
       "0                         Music option not working 😔      1  \n",
       "1                                      Love this App      5  \n",
       "2                        Triphal re I'ma g hi nopzA,      4  \n",
       "3  Instagram ka dp ka bhi system thik nahi he or ...      5  \n",
       "4                                             awsome      5  "
      ]
     },
     "execution_count": 56,
     "metadata": {},
     "output_type": "execute_result"
    }
   ],
   "source": [
    "vaders.head()"
   ]
  },
  {
   "cell_type": "markdown",
   "id": "34c659bd-98f8-423c-b4a4-f18629d3b1f1",
   "metadata": {},
   "source": [
    "# Plot VADER results"
   ]
  },
  {
   "cell_type": "code",
   "execution_count": 59,
   "id": "bcf9685a-3e45-4bb0-b5c0-be307af722c8",
   "metadata": {},
   "outputs": [
    {
     "data": {
      "image/png": "[encoded data removed]",
      "text/plain": [
       "<Figure size 640x480 with 1 Axes>"
      ]
     },
     "metadata": {},
     "output_type": "display_data"
    }
   ],
   "source": [
    "ax = sns.barplot(data=vaders, x='score', y='compound')\n",
    "ax.set_title('Compund Score by Emirates Review')\n",
    "plt.show()"
   ]
  },
  {
   "cell_type": "code",
   "execution_count": 61,
   "id": "cad1ceab-b158-4bb3-8a5e-0955f49e39c4",
   "metadata": {},
   "outputs": [
    {
     "data": {
      "image/png": "[encoded data removed]",
      "text/plain": [
       "<Figure size 1200x300 with 3 Axes>"
      ]
     },
     "metadata": {},
     "output_type": "display_data"
    }
   ],
   "source": [
    "fig, axs = plt.subplots(1, 3, figsize=(12, 3))\n",
    "sns.barplot(data=vaders, x='score', y='pos', ax=axs[0])\n",
    "sns.barplot(data=vaders, x='score', y='neu', ax=axs[1])\n",
    "sns.barplot(data=vaders, x='score', y='neg', ax=axs[2])\n",
    "axs[0].set_title('Positive')\n",
    "axs[1].set_title('Neutral')\n",
    "axs[2].set_title('Negative')\n",
    "plt.tight_layout()\n",
    "plt.show()"
   ]
  },
  {
   "cell_type": "code",
   "execution_count": null,
   "id": "553ad60f-b5c6-4641-ae2f-724f05cffafa",
   "metadata": {},
   "outputs": [],
   "source": []
  }
 ],
 "metadata": {
  "kernelspec": {
   "display_name": "Python 3 (ipykernel)",
   "language": "python",
   "name": "python3"
  },
  "language_info": {
   "codemirror_mode": {
    "name": "ipython",
    "version": 3
   },
   "file_extension": ".py",
   "mimetype": "text/x-python",
   "name": "python",
   "nbconvert_exporter": "python",
   "pygments_lexer": "ipython3",
   "version": "3.11.5"
  }
 },
 "nbformat": 4,
 "nbformat_minor": 5
}
