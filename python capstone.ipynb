{
 "cells": [
  {
   "cell_type": "code",
   "execution_count": 1,
   "id": "5aadffdf-3104-4565-9114-7b1bd808fe41",
   "metadata": {},
   "outputs": [],
   "source": [
    "import smtplib\n",
    "import random\n",
    "import time\n",
    "from email.mime.text import MIMEText\n",
    "from email.mime.multipart import MIMEMultipart"
   ]
  },
  {
   "cell_type": "code",
   "execution_count": 2,
   "id": "8dcb79af-8e0e-4fb1-9a5c-3f7af80bed91",
   "metadata": {},
   "outputs": [],
   "source": [
    "# Generate a 6-digit OTP\n",
    "def generate_otp():\n",
    "    return random.randint(100000, 999999)"
   ]
  },
  {
   "cell_type": "code",
   "execution_count": 3,
   "id": "9647a2ce-3744-4b35-8d55-f63781d8ca54",
   "metadata": {},
   "outputs": [],
   "source": [
    "# Send OTP via email\n",
    "def send_otp_email(sender_email, sender_password, recipient_email, otp):\n",
    "    try:\n",
    "        # Create email message\n",
    "        message = MIMEMultipart()\n",
    "        message['From'] = sender_email\n",
    "        message['To'] = recipient_email\n",
    "        message['Subject'] = 'Your OTP Verification Code'\n",
    "        \n",
    "        body = f\"Your OTP is: {otp}. This code is valid for 5 minutes.\"\n",
    "        message.attach(MIMEText(body, 'plain'))\n",
    "        \n",
    "        # Connect to SMTP server and send email\n",
    "        with smtplib.SMTP('smtp.gmail.com', 587) as server:\n",
    "            server.starttls()\n",
    "            server.login(sender_email, sender_password)\n",
    "            server.send_message(message)\n",
    "        print(\"OTP sent successfully!\")\n",
    "    except Exception as e:\n",
    "        print(\"Failed to send OTP. Error:\", e)\n"
   ]
  },
  {
   "cell_type": "code",
   "execution_count": 4,
   "id": "4c296efd-84b1-4bd1-b4af-15ddc4cc0f9b",
   "metadata": {},
   "outputs": [],
   "source": [
    "# Prompt user for OTP entry\n",
    "def get_user_otp():\n",
    "    return input(\"Enter the OTP sent to your email: \")"
   ]
  },
  {
   "cell_type": "code",
   "execution_count": 5,
   "id": "3edfd986-d712-4265-ba64-cdef58b300b5",
   "metadata": {},
   "outputs": [],
   "source": [
    "# Validate the OTP entered by the user\n",
    "def validate_otp(generated_otp, user_otp):\n",
    "    return str(generated_otp) == str(user_otp)"
   ]
  },
  {
   "cell_type": "code",
   "execution_count": null,
   "id": "f10cc7f7-33d6-4b7f-97e6-481924952974",
   "metadata": {},
   "outputs": [],
   "source": [
    "# Main function to execute OTP verification\n",
    "def otp_verification_system():\n",
    "    sender_email = input(\"Enter your email address (sender): \")\n",
    "    sender_password = input(\"Enter your email password: \")\n",
    "    recipient_email = input(\"Enter the recipient's email address: \")\n",
    "    \n",
    "    otp = generate_otp()\n",
    "    send_otp_email(sender_email, sender_password, recipient_email, otp)\n",
    "    \n",
    "    for attempt in range(3):\n",
    "        user_otp = get_user_otp()\n",
    "        if validate_otp(otp, user_otp):\n",
    "            print(\"Access granted. OTP verified successfully!\")\n",
    "            return\n",
    "        else:\n",
    "            print(\"Invalid OTP. Please try again.\")\n",
    "    \n",
    "    print(\"Access denied. Too many incorrect attempts.\")\n",
    "\n",
    "if __name__ == \"__main__\":\n",
    "    otp_verification_system()\n",
    "\n"
   ]
  },
  {
   "cell_type": "code",
   "execution_count": null,
   "id": "a47a3fe0-2b9f-4584-addc-12f338580289",
   "metadata": {},
   "outputs": [],
   "source": []
  }
 ],
 "metadata": {
  "kernelspec": {
   "display_name": "Python 3 (ipykernel)",
   "language": "python",
   "name": "python3"
  },
  "language_info": {
   "codemirror_mode": {
    "name": "ipython",
    "version": 3
   },
   "file_extension": ".py",
   "mimetype": "text/x-python",
   "name": "python",
   "nbconvert_exporter": "python",
   "pygments_lexer": "ipython3",
   "version": "3.11.5"
  }
 },
 "nbformat": 4,
 "nbformat_minor": 5
}
